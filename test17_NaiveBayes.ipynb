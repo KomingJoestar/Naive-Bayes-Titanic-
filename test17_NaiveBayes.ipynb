{
 "cells": [
  {
   "cell_type": "code",
   "execution_count": 1,
   "metadata": {
    "collapsed": true
   },
   "outputs": [],
   "source": [
    "import pandas as pd\n",
    "import numpy as np"
   ]
  },
  {
   "cell_type": "markdown",
   "metadata": {},
   "source": [
    "## 数据预处理"
   ]
  },
  {
   "cell_type": "code",
   "execution_count": 2,
   "metadata": {},
   "outputs": [
    {
     "data": {
      "text/html": [
       "<div>\n",
       "<style scoped>\n",
       "    .dataframe tbody tr th:only-of-type {\n",
       "        vertical-align: middle;\n",
       "    }\n",
       "\n",
       "    .dataframe tbody tr th {\n",
       "        vertical-align: top;\n",
       "    }\n",
       "\n",
       "    .dataframe thead th {\n",
       "        text-align: right;\n",
       "    }\n",
       "</style>\n",
       "<table border=\"1\" class=\"dataframe\">\n",
       "  <thead>\n",
       "    <tr style=\"text-align: right;\">\n",
       "      <th></th>\n",
       "      <th>PassengerId</th>\n",
       "      <th>Survived</th>\n",
       "      <th>Pclass</th>\n",
       "      <th>Name</th>\n",
       "      <th>Sex</th>\n",
       "      <th>Age</th>\n",
       "      <th>SibSp</th>\n",
       "      <th>Parch</th>\n",
       "      <th>Ticket</th>\n",
       "      <th>Fare</th>\n",
       "      <th>Cabin</th>\n",
       "      <th>Embarked</th>\n",
       "    </tr>\n",
       "  </thead>\n",
       "  <tbody>\n",
       "    <tr>\n",
       "      <th>0</th>\n",
       "      <td>1</td>\n",
       "      <td>0</td>\n",
       "      <td>3</td>\n",
       "      <td>Braund, Mr. Owen Harris</td>\n",
       "      <td>male</td>\n",
       "      <td>22.0</td>\n",
       "      <td>1</td>\n",
       "      <td>0</td>\n",
       "      <td>A/5 21171</td>\n",
       "      <td>7.2500</td>\n",
       "      <td>NaN</td>\n",
       "      <td>S</td>\n",
       "    </tr>\n",
       "    <tr>\n",
       "      <th>1</th>\n",
       "      <td>2</td>\n",
       "      <td>1</td>\n",
       "      <td>1</td>\n",
       "      <td>Cumings, Mrs. John Bradley (Florence Briggs Th...</td>\n",
       "      <td>female</td>\n",
       "      <td>38.0</td>\n",
       "      <td>1</td>\n",
       "      <td>0</td>\n",
       "      <td>PC 17599</td>\n",
       "      <td>71.2833</td>\n",
       "      <td>C85</td>\n",
       "      <td>C</td>\n",
       "    </tr>\n",
       "    <tr>\n",
       "      <th>2</th>\n",
       "      <td>3</td>\n",
       "      <td>1</td>\n",
       "      <td>3</td>\n",
       "      <td>Heikkinen, Miss. Laina</td>\n",
       "      <td>female</td>\n",
       "      <td>26.0</td>\n",
       "      <td>0</td>\n",
       "      <td>0</td>\n",
       "      <td>STON/O2. 3101282</td>\n",
       "      <td>7.9250</td>\n",
       "      <td>NaN</td>\n",
       "      <td>S</td>\n",
       "    </tr>\n",
       "    <tr>\n",
       "      <th>3</th>\n",
       "      <td>4</td>\n",
       "      <td>1</td>\n",
       "      <td>1</td>\n",
       "      <td>Futrelle, Mrs. Jacques Heath (Lily May Peel)</td>\n",
       "      <td>female</td>\n",
       "      <td>35.0</td>\n",
       "      <td>1</td>\n",
       "      <td>0</td>\n",
       "      <td>113803</td>\n",
       "      <td>53.1000</td>\n",
       "      <td>C123</td>\n",
       "      <td>S</td>\n",
       "    </tr>\n",
       "    <tr>\n",
       "      <th>4</th>\n",
       "      <td>5</td>\n",
       "      <td>0</td>\n",
       "      <td>3</td>\n",
       "      <td>Allen, Mr. William Henry</td>\n",
       "      <td>male</td>\n",
       "      <td>35.0</td>\n",
       "      <td>0</td>\n",
       "      <td>0</td>\n",
       "      <td>373450</td>\n",
       "      <td>8.0500</td>\n",
       "      <td>NaN</td>\n",
       "      <td>S</td>\n",
       "    </tr>\n",
       "  </tbody>\n",
       "</table>\n",
       "</div>"
      ],
      "text/plain": [
       "   PassengerId  Survived  Pclass  \\\n",
       "0            1         0       3   \n",
       "1            2         1       1   \n",
       "2            3         1       3   \n",
       "3            4         1       1   \n",
       "4            5         0       3   \n",
       "\n",
       "                                                Name     Sex   Age  SibSp  \\\n",
       "0                            Braund, Mr. Owen Harris    male  22.0      1   \n",
       "1  Cumings, Mrs. John Bradley (Florence Briggs Th...  female  38.0      1   \n",
       "2                             Heikkinen, Miss. Laina  female  26.0      0   \n",
       "3       Futrelle, Mrs. Jacques Heath (Lily May Peel)  female  35.0      1   \n",
       "4                           Allen, Mr. William Henry    male  35.0      0   \n",
       "\n",
       "   Parch            Ticket     Fare Cabin Embarked  \n",
       "0      0         A/5 21171   7.2500   NaN        S  \n",
       "1      0          PC 17599  71.2833   C85        C  \n",
       "2      0  STON/O2. 3101282   7.9250   NaN        S  \n",
       "3      0            113803  53.1000  C123        S  \n",
       "4      0            373450   8.0500   NaN        S  "
      ]
     },
     "execution_count": 2,
     "metadata": {},
     "output_type": "execute_result"
    }
   ],
   "source": [
    "train = pd.read_csv(\"train.csv\")\n",
    "train.head()"
   ]
  },
  {
   "cell_type": "code",
   "execution_count": 3,
   "metadata": {},
   "outputs": [
    {
     "name": "stdout",
     "output_type": "stream",
     "text": [
      "数据集尺寸： (891, 12)\n",
      "去除重复样本后的数据集尺寸： (891, 12)\n"
     ]
    }
   ],
   "source": [
    "#删除重复样本\n",
    "print('数据集尺寸：', train.shape)\n",
    "train.drop_duplicates(keep='first', inplace=True)\n",
    "print('去除重复样本后的数据集尺寸：', train.shape)"
   ]
  },
  {
   "cell_type": "code",
   "execution_count": 4,
   "metadata": {},
   "outputs": [
    {
     "name": "stdout",
     "output_type": "stream",
     "text": [
      "数据集尺寸： (891, 6)\n"
     ]
    },
    {
     "data": {
      "text/html": [
       "<div>\n",
       "<style scoped>\n",
       "    .dataframe tbody tr th:only-of-type {\n",
       "        vertical-align: middle;\n",
       "    }\n",
       "\n",
       "    .dataframe tbody tr th {\n",
       "        vertical-align: top;\n",
       "    }\n",
       "\n",
       "    .dataframe thead th {\n",
       "        text-align: right;\n",
       "    }\n",
       "</style>\n",
       "<table border=\"1\" class=\"dataframe\">\n",
       "  <thead>\n",
       "    <tr style=\"text-align: right;\">\n",
       "      <th></th>\n",
       "      <th>Survived</th>\n",
       "      <th>Pclass</th>\n",
       "      <th>Sex</th>\n",
       "      <th>Age</th>\n",
       "      <th>SibSp</th>\n",
       "      <th>Parch</th>\n",
       "    </tr>\n",
       "  </thead>\n",
       "  <tbody>\n",
       "    <tr>\n",
       "      <th>0</th>\n",
       "      <td>0</td>\n",
       "      <td>3</td>\n",
       "      <td>male</td>\n",
       "      <td>22.0</td>\n",
       "      <td>1</td>\n",
       "      <td>0</td>\n",
       "    </tr>\n",
       "    <tr>\n",
       "      <th>1</th>\n",
       "      <td>1</td>\n",
       "      <td>1</td>\n",
       "      <td>female</td>\n",
       "      <td>38.0</td>\n",
       "      <td>1</td>\n",
       "      <td>0</td>\n",
       "    </tr>\n",
       "    <tr>\n",
       "      <th>2</th>\n",
       "      <td>1</td>\n",
       "      <td>3</td>\n",
       "      <td>female</td>\n",
       "      <td>26.0</td>\n",
       "      <td>0</td>\n",
       "      <td>0</td>\n",
       "    </tr>\n",
       "    <tr>\n",
       "      <th>3</th>\n",
       "      <td>1</td>\n",
       "      <td>1</td>\n",
       "      <td>female</td>\n",
       "      <td>35.0</td>\n",
       "      <td>1</td>\n",
       "      <td>0</td>\n",
       "    </tr>\n",
       "    <tr>\n",
       "      <th>4</th>\n",
       "      <td>0</td>\n",
       "      <td>3</td>\n",
       "      <td>male</td>\n",
       "      <td>35.0</td>\n",
       "      <td>0</td>\n",
       "      <td>0</td>\n",
       "    </tr>\n",
       "  </tbody>\n",
       "</table>\n",
       "</div>"
      ],
      "text/plain": [
       "   Survived  Pclass     Sex   Age  SibSp  Parch\n",
       "0         0       3    male  22.0      1      0\n",
       "1         1       1  female  38.0      1      0\n",
       "2         1       3  female  26.0      0      0\n",
       "3         1       1  female  35.0      1      0\n",
       "4         0       3    male  35.0      0      0"
      ]
     },
     "execution_count": 4,
     "metadata": {},
     "output_type": "execute_result"
    }
   ],
   "source": [
    "#删除无关或意义重复的特征\n",
    "train.drop(['PassengerId', 'Name', 'Ticket', 'Embarked', 'Cabin', 'Fare'], axis=1, inplace=True)\n",
    "print('数据集尺寸：', train.shape)\n",
    "train.head()"
   ]
  },
  {
   "cell_type": "code",
   "execution_count": 5,
   "metadata": {},
   "outputs": [
    {
     "data": {
      "text/plain": [
       "Survived      0\n",
       "Pclass        0\n",
       "Sex           0\n",
       "Age         177\n",
       "SibSp         0\n",
       "Parch         0\n",
       "dtype: int64"
      ]
     },
     "execution_count": 5,
     "metadata": {},
     "output_type": "execute_result"
    }
   ],
   "source": [
    "#查看每个特征的缺失值个数\n",
    "num_of_nan = train.shape[0] - train.count()\n",
    "num_of_nan"
   ]
  },
  {
   "cell_type": "code",
   "execution_count": 6,
   "metadata": {},
   "outputs": [
    {
     "data": {
      "text/html": [
       "<div>\n",
       "<style scoped>\n",
       "    .dataframe tbody tr th:only-of-type {\n",
       "        vertical-align: middle;\n",
       "    }\n",
       "\n",
       "    .dataframe tbody tr th {\n",
       "        vertical-align: top;\n",
       "    }\n",
       "\n",
       "    .dataframe thead th {\n",
       "        text-align: right;\n",
       "    }\n",
       "</style>\n",
       "<table border=\"1\" class=\"dataframe\">\n",
       "  <thead>\n",
       "    <tr style=\"text-align: right;\">\n",
       "      <th></th>\n",
       "      <th>Survived</th>\n",
       "      <th>Pclass</th>\n",
       "      <th>Sex</th>\n",
       "      <th>Age</th>\n",
       "      <th>SibSp</th>\n",
       "      <th>Parch</th>\n",
       "    </tr>\n",
       "  </thead>\n",
       "  <tbody>\n",
       "    <tr>\n",
       "      <th>0</th>\n",
       "      <td>0</td>\n",
       "      <td>3</td>\n",
       "      <td>male</td>\n",
       "      <td>21~40</td>\n",
       "      <td>1</td>\n",
       "      <td>0</td>\n",
       "    </tr>\n",
       "    <tr>\n",
       "      <th>1</th>\n",
       "      <td>1</td>\n",
       "      <td>1</td>\n",
       "      <td>female</td>\n",
       "      <td>21~40</td>\n",
       "      <td>1</td>\n",
       "      <td>0</td>\n",
       "    </tr>\n",
       "    <tr>\n",
       "      <th>2</th>\n",
       "      <td>1</td>\n",
       "      <td>3</td>\n",
       "      <td>female</td>\n",
       "      <td>21~40</td>\n",
       "      <td>0</td>\n",
       "      <td>0</td>\n",
       "    </tr>\n",
       "    <tr>\n",
       "      <th>3</th>\n",
       "      <td>1</td>\n",
       "      <td>1</td>\n",
       "      <td>female</td>\n",
       "      <td>21~40</td>\n",
       "      <td>1</td>\n",
       "      <td>0</td>\n",
       "    </tr>\n",
       "    <tr>\n",
       "      <th>4</th>\n",
       "      <td>0</td>\n",
       "      <td>3</td>\n",
       "      <td>male</td>\n",
       "      <td>21~40</td>\n",
       "      <td>0</td>\n",
       "      <td>0</td>\n",
       "    </tr>\n",
       "  </tbody>\n",
       "</table>\n",
       "</div>"
      ],
      "text/plain": [
       "   Survived  Pclass     Sex    Age  SibSp  Parch\n",
       "0         0       3    male  21~40      1      0\n",
       "1         1       1  female  21~40      1      0\n",
       "2         1       3  female  21~40      0      0\n",
       "3         1       1  female  21~40      1      0\n",
       "4         0       3    male  21~40      0      0"
      ]
     },
     "execution_count": 6,
     "metadata": {},
     "output_type": "execute_result"
    }
   ],
   "source": [
    "#将Age分为≤20,21~40,41~60,>60和missing五类\n",
    "pd.options.display.max_rows = None\n",
    "train.loc[train.Age <= 20, 'Age2'] = '≤20'\n",
    "train.loc[train.Age > 20, 'Age2'] = '21~40'\n",
    "train.loc[train.Age > 40, 'Age2'] = '41~60'\n",
    "train.loc[train.Age > 60, 'Age2'] = '>60'\n",
    "train.Age2.fillna('missing', inplace=True)\n",
    "\n",
    "train.Age = train.Age2\n",
    "train.drop(['Age2'], axis=1, inplace=True)\n",
    "train.head()"
   ]
  },
  {
   "cell_type": "code",
   "execution_count": 7,
   "metadata": {
    "collapsed": true
   },
   "outputs": [],
   "source": [
    "#将特征和标签以数组或列表的形式存储在train_features和train_labels中\n",
    "train = np.array(train)\n",
    "train_features = train[:,1:train.shape[1]]\n",
    "train_labels = list(train[:,0]  )"
   ]
  },
  {
   "cell_type": "code",
   "execution_count": 8,
   "metadata": {},
   "outputs": [
    {
     "data": {
      "text/plain": [
       "array([[3, 'male', '21~40', 0, 0],\n",
       "       [3, 'female', '41~60', 1, 0],\n",
       "       [2, 'male', '>60', 0, 0],\n",
       "       ...,\n",
       "       [3, 'male', '21~40', 0, 0],\n",
       "       [3, 'male', 'missing', 0, 0],\n",
       "       [3, 'male', 'missing', 1, 1]], dtype=object)"
      ]
     },
     "execution_count": 8,
     "metadata": {},
     "output_type": "execute_result"
    }
   ],
   "source": [
    "#用同样的方法处理测试集特征\n",
    "test = pd.read_csv(\"test.csv\")\n",
    "test.drop(['PassengerId', 'Name', 'Ticket', 'Embarked', 'Cabin', 'Fare'], axis=1, inplace=True)\n",
    "test.loc[test.Age <= 20, 'Age2'] = '≤20'\n",
    "test.loc[test.Age > 20, 'Age2'] = '21~40'\n",
    "test.loc[test.Age > 40, 'Age2'] = '41~60'\n",
    "test.loc[test.Age > 60, 'Age2'] = '>60'\n",
    "test.Age2.fillna('missing', inplace=True)\n",
    "test.Age = test.Age2\n",
    "test.drop(['Age2'], axis=1, inplace=True)\n",
    "test_features = np.array(test)\n",
    "test_features"
   ]
  },
  {
   "cell_type": "markdown",
   "metadata": {},
   "source": [
    "## 朴素贝叶斯算法（极大似然估计）"
   ]
  },
  {
   "cell_type": "code",
   "execution_count": 9,
   "metadata": {
    "collapsed": true
   },
   "outputs": [],
   "source": [
    "def ProbabilityCalculation(train_features, train_labels):\n",
    "    \n",
    "    \n",
    "    #计算先验概率P_Y\n",
    "    train_labels_set = set(train_labels)\n",
    "    P_Y = {}\n",
    "    for i in train_labels_set:\n",
    "        P_Y['Y=' + str(i)] = train_labels.count(i) / float(len(train_labels))\n",
    "    for i in P_Y:\n",
    "        print('P(' + i + ') =', P_Y[i])\n",
    "    \n",
    "    \n",
    "    #计算条件概率P_X_Y\n",
    "    X_set = []\n",
    "    for i in range(len(train_features[0])):\n",
    "        X_set.append(set(train_features[:, i]))\n",
    "\n",
    "    P_X_Y = {}\n",
    "    for label in train_labels_set:\n",
    "        label_index = [i for i, j in enumerate(train_labels) if j == label]  #找出所有Y等于一个可取值的样本的索引\n",
    "        for num in range(len(train_features[0])):\n",
    "            for k in X_set[num]:\n",
    "                feature_index = [i for i, j in enumerate(train_features[:, num]) if j == k] #找出所有X等于一个可取值的样本的索引\n",
    "                label_feature_count = len(set(label_index) & set(feature_index)) #索引取交集，计算个数\n",
    "                #交集个数除以取这个可取值的Y的个数得到条件概率\n",
    "                P_X_Y['X' + str(num) + '=' + str(k) + '|Y=' + str(label)] = label_feature_count / float(train_labels.count(label))\n",
    "    \n",
    "    for i in P_X_Y:\n",
    "        print('P(' + i + ') =', P_X_Y[i])\n",
    "        \n",
    "        \n",
    "    #返回先验概率和条件概率\n",
    "    return [P_Y, P_X_Y]"
   ]
  },
  {
   "cell_type": "code",
   "execution_count": 10,
   "metadata": {
    "scrolled": true
   },
   "outputs": [
    {
     "name": "stdout",
     "output_type": "stream",
     "text": [
      "P(Y=0) = 0.6161616161616161\n",
      "P(Y=1) = 0.3838383838383838\n",
      "P(X0=1|Y=0) = 0.14571948998178508\n",
      "P(X0=2|Y=0) = 0.1766848816029144\n",
      "P(X0=3|Y=0) = 0.6775956284153005\n",
      "P(X1=female|Y=0) = 0.14754098360655737\n",
      "P(X1=male|Y=0) = 0.8524590163934426\n",
      "P(X2=≤20|Y=0) = 0.1766848816029144\n",
      "P(X2=21~40|Y=0) = 0.4225865209471767\n",
      "P(X2=>60|Y=0) = 0.030965391621129327\n",
      "P(X2=missing|Y=0) = 0.22768670309653916\n",
      "P(X2=41~60|Y=0) = 0.14207650273224043\n",
      "P(X3=0|Y=0) = 0.7249544626593807\n",
      "P(X3=1|Y=0) = 0.1766848816029144\n",
      "P(X3=2|Y=0) = 0.0273224043715847\n",
      "P(X3=3|Y=0) = 0.02185792349726776\n",
      "P(X3=4|Y=0) = 0.0273224043715847\n",
      "P(X3=5|Y=0) = 0.009107468123861567\n",
      "P(X3=8|Y=0) = 0.012750455373406194\n",
      "P(X4=0|Y=0) = 0.8105646630236795\n",
      "P(X4=1|Y=0) = 0.0965391621129326\n",
      "P(X4=2|Y=0) = 0.07285974499089254\n",
      "P(X4=3|Y=0) = 0.0036429872495446266\n",
      "P(X4=4|Y=0) = 0.007285974499089253\n",
      "P(X4=5|Y=0) = 0.007285974499089253\n",
      "P(X4=6|Y=0) = 0.0018214936247723133\n",
      "P(X0=1|Y=1) = 0.39766081871345027\n",
      "P(X0=2|Y=1) = 0.2543859649122807\n",
      "P(X0=3|Y=1) = 0.347953216374269\n",
      "P(X1=female|Y=1) = 0.6812865497076024\n",
      "P(X1=male|Y=1) = 0.31871345029239767\n",
      "P(X2=≤20|Y=1) = 0.23976608187134502\n",
      "P(X2=21~40|Y=1) = 0.4473684210526316\n",
      "P(X2=>60|Y=1) = 0.014619883040935672\n",
      "P(X2=missing|Y=1) = 0.15204678362573099\n",
      "P(X2=41~60|Y=1) = 0.14619883040935672\n",
      "P(X3=0|Y=1) = 0.6140350877192983\n",
      "P(X3=1|Y=1) = 0.32748538011695905\n",
      "P(X3=2|Y=1) = 0.038011695906432746\n",
      "P(X3=3|Y=1) = 0.011695906432748537\n",
      "P(X3=4|Y=1) = 0.008771929824561403\n",
      "P(X3=5|Y=1) = 0.0\n",
      "P(X3=8|Y=1) = 0.0\n",
      "P(X4=0|Y=1) = 0.6812865497076024\n",
      "P(X4=1|Y=1) = 0.19005847953216373\n",
      "P(X4=2|Y=1) = 0.11695906432748537\n",
      "P(X4=3|Y=1) = 0.008771929824561403\n",
      "P(X4=4|Y=1) = 0.0\n",
      "P(X4=5|Y=1) = 0.0029239766081871343\n",
      "P(X4=6|Y=1) = 0.0\n"
     ]
    }
   ],
   "source": [
    "#计算先验概率和条件概率\n",
    "P_Y, P_X_Y = ProbabilityCalculation(train_features, train_labels)"
   ]
  },
  {
   "cell_type": "code",
   "execution_count": 11,
   "metadata": {},
   "outputs": [
    {
     "name": "stdout",
     "output_type": "stream",
     "text": [
      "预测结果为：\n",
      " [0, 1, 0, 0, 1, 0, 1, 1, 1, 0, 0, 0, 1, 0, 1, 1, 0, 0, 1, 1, 1, 0, 1, 1, 1, 0, 1, 0, 0, 0, 0, 0, 1, 1, 1, 0, 0, 1, 0, 0, 0, 0, 0, 1, 1, 0, 0, 0, 1, 1, 1, 0, 1, 1, 0, 0, 0, 0, 0, 1, 0, 0, 0, 1, 1, 1, 1, 0, 0, 0, 1, 0, 1, 0, 1, 0, 0, 1, 0, 1, 0, 0, 0, 0, 0, 0, 1, 1, 0, 1, 1, 0, 1, 0, 0, 0, 1, 0, 1, 0, 1, 0, 0, 0, 1, 0, 0, 0, 0, 0, 0, 0, 1, 1, 1, 0, 0, 1, 0, 1, 1, 0, 1, 0, 0, 1, 0, 1, 0, 0, 0, 0, 0, 0, 0, 0, 0, 0, 1, 0, 0, 1, 1, 0, 0, 0, 0, 0, 0, 1, 1, 0, 0, 1, 0, 0, 1, 1, 0, 1, 0, 0, 1, 0, 0, 1, 0, 0, 1, 1, 0, 0, 0, 0, 0, 1, 1, 1, 1, 1, 0, 1, 1, 0, 1, 0, 1, 0, 0, 0, 0, 0, 0, 0, 0, 0, 1, 1, 0, 0, 0, 0, 1, 1, 0, 0, 1, 0, 1, 0, 0, 0, 0, 1, 0, 0, 0, 1, 1, 0, 1, 0, 1, 0, 1, 1, 0, 0, 0, 0, 0, 1, 0, 0, 1, 0, 0, 0, 1, 1, 1, 1, 1, 0, 0, 1, 1, 1, 1, 1, 1, 0, 1, 0, 0, 0, 0, 0, 1, 0, 0, 0, 1, 1, 0, 0, 0, 0, 0, 0, 0, 0, 1, 1, 0, 1, 0, 0, 0, 0, 1, 0, 0, 1, 1, 0, 0, 1, 0, 0, 0, 1, 0, 1, 0, 0, 1, 0, 0, 0, 0, 0, 0, 0, 0, 1, 1, 0, 1, 1, 0, 0, 0, 1, 1, 1, 1, 0, 0, 0, 0, 0, 0, 0, 1, 0, 1, 0, 0, 0, 1, 0, 0, 1, 0, 0, 0, 0, 0, 0, 0, 0, 0, 1, 0, 1, 0, 1, 0, 1, 1, 0, 0, 1, 1, 0, 1, 0, 0, 1, 0, 1, 1, 0, 1, 0, 0, 1, 1, 0, 0, 1, 0, 0, 1, 1, 1, 0, 0, 0, 0, 0, 0, 1, 0, 1, 0, 0, 0, 0, 0, 1, 0, 0, 0, 1, 0, 1, 0, 0, 1, 0, 1, 0, 1, 0, 0, 1, 0, 1, 0, 1, 1, 0, 1, 0, 0, 0]\n"
     ]
    }
   ],
   "source": [
    "#计算后验概率（由于测试集中可能存在训练集意外的取值，故使用try语句）\n",
    "output = []\n",
    "for i in test_features:\n",
    "    ans = []\n",
    "    \n",
    "    #计算Y=0的情况\n",
    "    try:\n",
    "        ans.append(P_Y['Y=0'] \n",
    "               * P_X_Y['X0='+ str(i[0]) + '|Y=0'] \n",
    "               * P_X_Y['X1='+ str(i[1]) + '|Y=0']\n",
    "               * P_X_Y['X2='+ str(i[2]) + '|Y=0']\n",
    "               * P_X_Y['X3='+ str(i[3]) + '|Y=0']\n",
    "               * P_X_Y['X4='+ str(i[4]) + '|Y=0'])\n",
    "    except:\n",
    "        ans.append(0)\n",
    "        \n",
    "    #计算Y=1的情况\n",
    "    try:\n",
    "        ans.append(P_Y['Y=1'] \n",
    "               * P_X_Y['X0='+ str(i[0]) + '|Y=1'] \n",
    "               * P_X_Y['X1='+ str(i[1]) + '|Y=1']\n",
    "               * P_X_Y['X2='+ str(i[2]) + '|Y=1']\n",
    "               * P_X_Y['X3='+ str(i[3]) + '|Y=1']\n",
    "               * P_X_Y['X4='+ str(i[4]) + '|Y=1'])\n",
    "    except:\n",
    "        ans.append(0)\n",
    "\n",
    "    if ans[0] >= ans [1]:\n",
    "        output.append(0)\n",
    "    else:\n",
    "        output.append(1)\n",
    "    \n",
    "    \n",
    "print('预测结果为：\\n', output)   "
   ]
  },
  {
   "cell_type": "markdown",
   "metadata": {},
   "source": [
    "## 朴素贝叶斯算法（贝叶斯估计）"
   ]
  },
  {
   "cell_type": "code",
   "execution_count": 12,
   "metadata": {
    "collapsed": true
   },
   "outputs": [],
   "source": [
    "def ProbabilityCalculation2(train_features, train_labels, K, λ): #K：Y可能取值的个数；λ：随机变量各个取值的频数上赋予的正数\n",
    "    \n",
    "    \n",
    "    #计算先验概率P_Y\n",
    "    train_labels_set = set(train_labels)\n",
    "    P_Y = {}\n",
    "    for i in train_labels_set:\n",
    "        P_Y['Y=' + str(i)] = (train_labels.count(i) + λ) / (float(len(train_labels)) + K * λ)\n",
    "    for i in P_Y:\n",
    "        print('P(' + i + ') =', P_Y[i])\n",
    "    \n",
    "    \n",
    "    #计算条件概率P_X_Y\n",
    "    X_set = []\n",
    "    for i in range(len(train_features[0])):\n",
    "        X_set.append(set(train_features[:, i]))\n",
    "\n",
    "    P_X_Y = {}\n",
    "    for label in train_labels_set:\n",
    "        label_index = [i for i, j in enumerate(train_labels) if j == label]  #找出所有Y等于一个可取值的样本的索引\n",
    "        for num in range(len(train_features[0])):\n",
    "            for k in X_set[num]:\n",
    "                feature_index = [i for i, j in enumerate(train_features[:, num]) if j == k] #找出所有X等于一个可取值的样本的索引\n",
    "                label_feature_count = len(set(label_index) & set(feature_index)) #索引取交集，计算个数\n",
    "                #交集个数除以取这个可取值的Y的个数得到条件概率\n",
    "                P_X_Y['X' + str(num) + '=' + str(k) + '|Y=' + str(label)] = (label_feature_count + λ) / (float(train_labels.count(label)) + len(X_set[num]) * λ)\n",
    "    \n",
    "    for i in P_X_Y:\n",
    "        print('P(' + i + ') =', P_X_Y[i])\n",
    "        \n",
    "        \n",
    "    #返回先验概率和条件概率\n",
    "    return [P_Y, P_X_Y]"
   ]
  },
  {
   "cell_type": "code",
   "execution_count": 13,
   "metadata": {},
   "outputs": [
    {
     "name": "stdout",
     "output_type": "stream",
     "text": [
      "P(Y=0) = 0.6159014557670772\n",
      "P(Y=1) = 0.3840985442329227\n",
      "P(X0=1|Y=0) = 0.14673913043478262\n",
      "P(X0=2|Y=0) = 0.17753623188405798\n",
      "P(X0=3|Y=0) = 0.6757246376811594\n",
      "P(X1=female|Y=0) = 0.14882032667876588\n",
      "P(X1=male|Y=0) = 0.8511796733212341\n",
      "P(X2=≤20|Y=0) = 0.17689530685920576\n",
      "P(X2=21~40|Y=0) = 0.42057761732851984\n",
      "P(X2=>60|Y=0) = 0.032490974729241874\n",
      "P(X2=missing|Y=0) = 0.22743682310469315\n",
      "P(X2=41~60|Y=0) = 0.14259927797833935\n",
      "P(X3=0|Y=0) = 0.7176258992805755\n",
      "P(X3=1|Y=0) = 0.17625899280575538\n",
      "P(X3=2|Y=0) = 0.02877697841726619\n",
      "P(X3=3|Y=0) = 0.023381294964028777\n",
      "P(X3=4|Y=0) = 0.02877697841726619\n",
      "P(X3=5|Y=0) = 0.01079136690647482\n",
      "P(X3=8|Y=0) = 0.014388489208633094\n",
      "P(X4=0|Y=0) = 0.802158273381295\n",
      "P(X4=1|Y=0) = 0.09712230215827339\n",
      "P(X4=2|Y=0) = 0.0737410071942446\n",
      "P(X4=3|Y=0) = 0.00539568345323741\n",
      "P(X4=4|Y=0) = 0.008992805755395683\n",
      "P(X4=5|Y=0) = 0.008992805755395683\n",
      "P(X4=6|Y=0) = 0.0035971223021582736\n",
      "P(X0=1|Y=1) = 0.39710144927536234\n",
      "P(X0=2|Y=1) = 0.25507246376811593\n",
      "P(X0=3|Y=1) = 0.34782608695652173\n",
      "P(X1=female|Y=1) = 0.6802325581395349\n",
      "P(X1=male|Y=1) = 0.31976744186046513\n",
      "P(X2=≤20|Y=1) = 0.23919308357348704\n",
      "P(X2=21~40|Y=1) = 0.4438040345821326\n",
      "P(X2=>60|Y=1) = 0.01729106628242075\n",
      "P(X2=missing|Y=1) = 0.15273775216138327\n",
      "P(X2=41~60|Y=1) = 0.14697406340057637\n",
      "P(X3=0|Y=1) = 0.6045845272206304\n",
      "P(X3=1|Y=1) = 0.3237822349570201\n",
      "P(X3=2|Y=1) = 0.04011461318051576\n",
      "P(X3=3|Y=1) = 0.014326647564469915\n",
      "P(X3=4|Y=1) = 0.011461318051575931\n",
      "P(X3=5|Y=1) = 0.0028653295128939827\n",
      "P(X3=8|Y=1) = 0.0028653295128939827\n",
      "P(X4=0|Y=1) = 0.670487106017192\n",
      "P(X4=1|Y=1) = 0.18911174785100288\n",
      "P(X4=2|Y=1) = 0.1174785100286533\n",
      "P(X4=3|Y=1) = 0.011461318051575931\n",
      "P(X4=4|Y=1) = 0.0028653295128939827\n",
      "P(X4=5|Y=1) = 0.0057306590257879654\n",
      "P(X4=6|Y=1) = 0.0028653295128939827\n"
     ]
    }
   ],
   "source": [
    "#计算先验概率和条件概率\n",
    "K = 2 #Y可能的取值个数为2\n",
    "λ = 1 #拉普拉斯平滑\n",
    "P_Y2, P_X_Y2 = ProbabilityCalculation2(train_features, train_labels, K, λ)\n"
   ]
  },
  {
   "cell_type": "code",
   "execution_count": 14,
   "metadata": {},
   "outputs": [
    {
     "name": "stdout",
     "output_type": "stream",
     "text": [
      "预测结果为：\n",
      " [0, 1, 0, 0, 1, 0, 1, 1, 1, 0, 0, 0, 1, 0, 1, 1, 0, 0, 1, 1, 1, 0, 1, 1, 1, 0, 1, 0, 0, 0, 0, 0, 1, 1, 1, 0, 0, 1, 0, 0, 0, 0, 0, 1, 1, 0, 0, 0, 1, 1, 1, 0, 1, 1, 0, 0, 0, 0, 0, 1, 0, 0, 0, 1, 1, 1, 1, 0, 0, 1, 1, 0, 1, 0, 1, 0, 0, 1, 0, 1, 0, 0, 0, 0, 0, 0, 1, 1, 0, 1, 1, 0, 1, 0, 0, 0, 1, 0, 1, 0, 1, 0, 0, 0, 1, 0, 0, 0, 0, 0, 0, 0, 1, 1, 1, 0, 0, 1, 0, 1, 1, 0, 1, 0, 0, 1, 0, 1, 0, 0, 0, 0, 0, 0, 0, 0, 0, 0, 1, 0, 0, 1, 1, 0, 0, 0, 0, 0, 0, 1, 1, 0, 0, 1, 0, 0, 1, 1, 0, 1, 0, 0, 1, 0, 0, 1, 0, 0, 1, 1, 0, 0, 0, 0, 0, 1, 1, 1, 1, 1, 0, 1, 1, 0, 1, 0, 1, 0, 0, 0, 0, 0, 0, 0, 0, 0, 1, 1, 0, 0, 0, 0, 1, 1, 0, 0, 1, 0, 1, 0, 0, 0, 0, 1, 0, 0, 0, 1, 1, 0, 1, 0, 1, 0, 1, 1, 0, 0, 0, 0, 0, 1, 0, 0, 1, 0, 0, 0, 1, 1, 1, 1, 1, 0, 0, 1, 1, 1, 1, 1, 1, 0, 1, 0, 0, 0, 0, 0, 1, 0, 0, 0, 1, 1, 0, 0, 0, 0, 0, 0, 0, 0, 1, 1, 0, 1, 0, 0, 0, 0, 1, 0, 0, 1, 1, 0, 0, 1, 0, 0, 0, 1, 0, 1, 0, 0, 1, 0, 0, 0, 0, 0, 0, 0, 0, 1, 1, 0, 1, 1, 0, 0, 0, 1, 1, 1, 1, 0, 0, 0, 0, 0, 0, 0, 1, 0, 1, 0, 0, 0, 1, 0, 0, 1, 0, 0, 0, 0, 0, 0, 0, 0, 0, 1, 0, 1, 0, 1, 0, 1, 1, 0, 0, 1, 1, 0, 1, 0, 0, 1, 0, 1, 1, 0, 1, 0, 0, 1, 1, 0, 0, 1, 0, 0, 1, 1, 1, 0, 0, 0, 0, 0, 0, 1, 0, 1, 0, 0, 0, 0, 0, 1, 0, 0, 0, 1, 0, 1, 0, 0, 1, 0, 1, 0, 1, 0, 0, 1, 0, 1, 0, 1, 1, 0, 1, 0, 0, 0]\n"
     ]
    }
   ],
   "source": [
    "#计算后验概率（由于测试集中可能存在训练集意外的取值，故使用try语句）\n",
    "output2 = []\n",
    "for i in test_features:\n",
    "    ans = []\n",
    "    \n",
    "    #计算Y=0的情况\n",
    "    try:\n",
    "        ans.append(P_Y2['Y=0'] \n",
    "               * P_X_Y2['X0='+ str(i[0]) + '|Y=0'] \n",
    "               * P_X_Y2['X1='+ str(i[1]) + '|Y=0']\n",
    "               * P_X_Y2['X2='+ str(i[2]) + '|Y=0']\n",
    "               * P_X_Y2['X3='+ str(i[3]) + '|Y=0']\n",
    "               * P_X_Y2['X4='+ str(i[4]) + '|Y=0'])\n",
    "    except:\n",
    "        ans.append(0)\n",
    "        \n",
    "    #计算Y=1的情况\n",
    "    try:\n",
    "        ans.append(P_Y2['Y=1'] \n",
    "               * P_X_Y2['X0='+ str(i[0]) + '|Y=1'] \n",
    "               * P_X_Y2['X1='+ str(i[1]) + '|Y=1']\n",
    "               * P_X_Y2['X2='+ str(i[2]) + '|Y=1']\n",
    "               * P_X_Y2['X3='+ str(i[3]) + '|Y=1']\n",
    "               * P_X_Y2['X4='+ str(i[4]) + '|Y=1'])\n",
    "    except:\n",
    "        ans.append(0)\n",
    "\n",
    "    if ans[0] >= ans [1]:\n",
    "        output2.append(0)\n",
    "    else:\n",
    "        output2.append(1)\n",
    "    \n",
    "    \n",
    "print('预测结果为：\\n', output2)   "
   ]
  },
  {
   "cell_type": "markdown",
   "metadata": {},
   "source": [
    "## 验证"
   ]
  },
  {
   "cell_type": "code",
   "execution_count": 15,
   "metadata": {},
   "outputs": [
    {
     "name": "stdout",
     "output_type": "stream",
     "text": [
      "用极大似然估计得到的准确率为：0.8875598086124402\n",
      "用贝叶斯估计得到的准确率为：0.8899521531100478\n"
     ]
    }
   ],
   "source": [
    "test_labels = pd.read_csv('gender_submission.csv')\n",
    "ground_truth = list(np.array(test_labels)[:, 1])\n",
    "count = 0\n",
    "count2 = 0\n",
    "\n",
    "for i in range(len(ground_truth)):\n",
    "    if output[i] == ground_truth[i]:\n",
    "        count += 1\n",
    "    if output2[i] == ground_truth[i]:\n",
    "        count2 += 1\n",
    "\n",
    "print(\"用极大似然估计得到的准确率为：{}\".format(count/len(ground_truth)))\n",
    "print(\"用贝叶斯估计得到的准确率为：{}\".format(count2/len(ground_truth)))     "
   ]
  },
  {
   "cell_type": "code",
   "execution_count": null,
   "metadata": {
    "collapsed": true
   },
   "outputs": [],
   "source": []
  }
 ],
 "metadata": {
  "kernelspec": {
   "display_name": "Python 3",
   "language": "python",
   "name": "python3"
  },
  "language_info": {
   "codemirror_mode": {
    "name": "ipython",
    "version": 3
   },
   "file_extension": ".py",
   "mimetype": "text/x-python",
   "name": "python",
   "nbconvert_exporter": "python",
   "pygments_lexer": "ipython3",
   "version": "3.6.3"
  }
 },
 "nbformat": 4,
 "nbformat_minor": 2
}
